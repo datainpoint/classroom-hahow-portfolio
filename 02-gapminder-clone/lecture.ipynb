{
 "cells": [
  {
   "cell_type": "markdown",
   "id": "lightweight-fruit",
   "metadata": {
    "slideshow": {
     "slide_type": "slide"
    }
   },
   "source": [
    "# 資料分析的七個練習專案：累積個人作品集\n",
    "\n",
    "> 練習專案一：兩百個國家、兩百年、四分鐘\n",
    "\n",
    "[數聚點](https://www.datainpoint.com) | 郭耀仁 <yaojenkuo@datainpoint.com>"
   ]
  },
  {
   "cell_type": "markdown",
   "id": "forward-passage",
   "metadata": {
    "slideshow": {
     "slide_type": "slide"
    }
   },
   "source": [
    "## 專案說明"
   ]
  },
  {
   "cell_type": "markdown",
   "id": "43910573",
   "metadata": {
    "slideshow": {
     "slide_type": "subslide"
    }
   },
   "source": [
    "## 資料視覺化的兩個經典案例\n",
    "\n",
    "1. Hans Rosling's 200 Countries, 200 Years, 4 Minutes: <https://youtu.be/jbkSRLYSojo?si=5WkjOoiU_IPuKGsR>\n",
    "2. Charles Minard's Napoleon's disastrous Russian campaign of 1812: <https://en.wikipedia.org/wiki/Charles_Joseph_Minard>"
   ]
  },
  {
   "cell_type": "markdown",
   "id": "guided-credit",
   "metadata": {
    "slideshow": {
     "slide_type": "subslide"
    }
   },
   "source": [
    "## 兩個案例之所以為經典\n",
    "\n",
    "- 在短篇幅中涵蓋豐富資訊，但是精準傳達想表達的核心理念。\n",
    "- 資料是多維度，呈現形式是二維的。\n",
    "- 美觀。"
   ]
  },
  {
   "cell_type": "markdown",
   "id": "7c0256e9",
   "metadata": {
    "slideshow": {
     "slide_type": "subslide"
    }
   },
   "source": [
    "## 如何復刻 Hans Rosling's 200 Countries, 200 Years, 4 Minutes\n",
    "\n",
    "- 資料需求。\n",
    "    - X 軸：人均 GDP\n",
    "    - Y 軸：預期壽命。\n",
    "    - 顏色：洲別。\n",
    "    - 大小：人口數。\n",
    "    - 時間軸：年份。\n",
    "- 視覺化需求。\n",
    "    - 概念驗證：`matplotlib.pyplot`\n",
    "    - 成品：`plotly.express`"
   ]
  },
  {
   "cell_type": "markdown",
   "id": "c32671e3",
   "metadata": {
    "slideshow": {
     "slide_type": "slide"
    }
   },
   "source": [
    "## 資料來源"
   ]
  },
  {
   "cell_type": "markdown",
   "id": "6a567896",
   "metadata": {
    "slideshow": {
     "slide_type": "subslide"
    }
   },
   "source": [
    "## 來自 [gapminder.org](https://www.gapminder.org/data/) 的資料\n",
    "\n",
    "- gapminder.org 基金會是由 Hans Rosling 與其家人共同創立的基金會，目的是透過統計資料的使用和理解，促進以事實為基礎的世界觀察。\n",
    "- gapminder.org 提供不同來源與格式的世界統計資料：\n",
    "    - Systema Globalis\n",
    "    - [Fast Track](https://github.com/open-numbers/ddf--gapminder--fasttrack)\n",
    "    - World Development Indicators"
   ]
  },
  {
   "cell_type": "markdown",
   "id": "beba2ede",
   "metadata": {
    "slideshow": {
     "slide_type": "subslide"
    }
   },
   "source": [
    "## 練習專案採用 [Fast Track](https://github.com/open-numbers/ddf--gapminder--fasttrack) 資料\n",
    "\n",
    "- X 軸：人均 GDP <https://github.com/open-numbers/ddf--gapminder--fasttrack/blob/master/countries_etc_datapoints/ddf--datapoints--gdp_pcap--by--country--time.csv>\n",
    "- Y 軸：預期壽命。<https://github.com/open-numbers/ddf--gapminder--fasttrack/blob/master/countries_etc_datapoints/ddf--datapoints--lex--by--country--time.csv>\n",
    "- 顏色：洲別。<https://github.com/open-numbers/ddf--gapminder--fasttrack/blob/master/ddf--entities--geo--country.csv>\n",
    "- 大小：人口數。<https://github.com/open-numbers/ddf--gapminder--fasttrack/blob/master/countries_etc_datapoints/ddf--datapoints--pop--by--country--time.csv>\n",
    "- 時間軸：年份。"
   ]
  },
  {
   "cell_type": "markdown",
   "id": "endless-sodium",
   "metadata": {
    "slideshow": {
     "slide_type": "subslide"
    }
   },
   "source": [
    "## 建立專案資料夾與環境\n",
    "\n",
    "- 新增 `gapminder-clone` 資料夾。\n",
    "- 將 [Fast Track](https://github.com/open-numbers/ddf--gapminder--fasttrack) 資料下載到專案資料夾中的 `data/`\n",
    "- 使用 `conda` 建立專案環境。\n",
    "\n",
    "```shell\n",
    "conda create --name gapminder python=3.12\n",
    "```"
   ]
  },
  {
   "cell_type": "markdown",
   "id": "60607589",
   "metadata": {
    "slideshow": {
     "slide_type": "subslide"
    }
   },
   "source": [
    "## 啟動環境與安裝模組的指令\n",
    "\n",
    "```shell\n",
    "(base) conda activate gapminder\n",
    "(gapminder) conda install $module_name\n",
    "(gapminder) pip install $module_name\n",
    "```"
   ]
  },
  {
   "cell_type": "markdown",
   "id": "60ff1c9c",
   "metadata": {
    "slideshow": {
     "slide_type": "subslide"
    }
   },
   "source": [
    "## 以 `pandas` 載入 [Fast Track](https://github.com/open-numbers/ddf--gapminder--fasttrack) 資料"
   ]
  },
  {
   "cell_type": "code",
   "execution_count": 1,
   "id": "01079a92",
   "metadata": {},
   "outputs": [],
   "source": [
    "file_names = [\"ddf--datapoints--gdp_pcap--by--country--time\",\n",
    "              \"ddf--datapoints--lex--by--country--time\",\n",
    "              \"ddf--datapoints--pop--by--country--time\",\n",
    "              \"ddf--entities--geo--country\"]\n",
    "file_keys = [\"gdp_pcap\", \"lex\", \"pop\", \"geo\"]"
   ]
  },
  {
   "cell_type": "code",
   "execution_count": 2,
   "id": "c149bc8c",
   "metadata": {
    "slideshow": {
     "slide_type": "subslide"
    }
   },
   "outputs": [],
   "source": [
    "import pandas as pd\n",
    "\n",
    "df_dict = dict()\n",
    "for file_name, file_key in zip(file_names, file_keys):\n",
    "    file_path = f\"data/{file_name}.csv\"\n",
    "    df = pd.read_csv(file_path)\n",
    "    df_dict[file_key] = df"
   ]
  },
  {
   "cell_type": "markdown",
   "id": "2e5a725f",
   "metadata": {
    "slideshow": {
     "slide_type": "subslide"
    }
   },
   "source": [
    "## 以 `sqlite3` 與 `pandas` 建立資料庫 `gapminder.db`"
   ]
  },
  {
   "cell_type": "code",
   "execution_count": 4,
   "id": "6f8ed18e",
   "metadata": {},
   "outputs": [],
   "source": [
    "import sqlite3\n",
    "\n",
    "connection = sqlite3.connect(\"data/gapminder.db\")\n",
    "for k, v in df_dict.items():\n",
    "    v.to_sql(name=k, con=connection, index=False, if_exists=\"replace\")\n",
    "connection.close()"
   ]
  },
  {
   "cell_type": "markdown",
   "id": "147bb8e1",
   "metadata": {
    "slideshow": {
     "slide_type": "subslide"
    }
   },
   "source": [
    "## 在 `gapminder.db` 建立一個檢視表 `plotting`"
   ]
  },
  {
   "cell_type": "code",
   "execution_count": 17,
   "id": "0aae790f",
   "metadata": {},
   "outputs": [],
   "source": [
    "drop_view_sql = \"\"\"\n",
    "DROP VIEW IF EXISTS plotting;\n",
    "\"\"\"\n",
    "create_view_sql = \"\"\"\n",
    "CREATE VIEW plotting AS\n",
    "SELECT gdp_pcap.country AS country_alpha3,\n",
    "       geo.name AS country_name,\n",
    "       gdp_pcap.time AS year,\n",
    "       gdp_pcap.gdp_pcap AS gdp_per_capita,\n",
    "       geo.world_4region AS continent,\n",
    "       lex.lex AS life_expectancy\n",
    "  FROM gdp_pcap\n",
    "  JOIN geo\n",
    "    ON gdp_pcap.country = geo.country\n",
    "  JOIN lex\n",
    "    ON gdp_pcap.country = lex.country AND\n",
    "       gdp_pcap.time = lex.time\n",
    "  JOIN pop\n",
    "    ON gdp_pcap.country = pop.country AND\n",
    "       gdp_pcap.time = pop.time\n",
    " WHERE gdp_pcap.time < 2024;\n",
    "\"\"\""
   ]
  },
  {
   "cell_type": "code",
   "execution_count": 16,
   "id": "bf6baafa",
   "metadata": {
    "slideshow": {
     "slide_type": "subslide"
    }
   },
   "outputs": [],
   "source": [
    "connection = sqlite3.connect(\"data/gapminder.db\")\n",
    "cur = connection.cursor()\n",
    "cur.execute(drop_view_sql)\n",
    "cur.execute(create_view_sql)\n",
    "connection.close()"
   ]
  },
  {
   "cell_type": "markdown",
   "id": "39db91de",
   "metadata": {
    "slideshow": {
     "slide_type": "subslide"
    }
   },
   "source": [
    "## 整理程式碼為一個類別 `CreateGapminderDB`"
   ]
  },
  {
   "cell_type": "markdown",
   "id": "c0d1e214",
   "metadata": {},
   "source": [
    "```python\n",
    "class CreateGapminderDB:\n",
    "    def __init__(self):\n",
    "        self.file_names = [\"ddf--datapoints--gdp_pcap--by--country--time\",\n",
    "                           \"ddf--datapoints--lex--by--country--time\",\n",
    "                           \"ddf--datapoints--pop--by--country--time\",\n",
    "                           \"ddf--entities--geo--country\"]\n",
    "        self.file_keys = [\"gdp_pcap\", \"lex\", \"pop\", \"geo\"]\n",
    "    def import_as_dataframe(self):\n",
    "        df_dict = dict()\n",
    "        for file_name, file_key in zip(self.file_names, self.file_keys):\n",
    "            file_path = f\"data/{file_name}.csv\"\n",
    "            df = pd.read_csv(file_path)\n",
    "            df_dict[file_key] = df\n",
    "        return df_dict\n",
    "```"
   ]
  },
  {
   "cell_type": "markdown",
   "id": "fd066d9d",
   "metadata": {
    "slideshow": {
     "slide_type": "subslide"
    }
   },
   "source": [
    "```python\n",
    "    def create_database(self):\n",
    "        connection = sqlite3.connect(\"data/gapminder.db\")\n",
    "        df_dict = self.import_as_dataframe()\n",
    "        for k, v in df_dict.items():\n",
    "            v.to_sql(name=k, con=connection, index=False, if_exists=\"replace\")\n",
    "        drop_view_sql = \"\"\"\n",
    "        DROP VIEW IF EXISTS plotting;\n",
    "        \"\"\"\n",
    "        create_view_sql = \"\"\"\n",
    "        CREATE VIEW plotting AS\n",
    "        SELECT gdp_pcap.country AS country_alpha3,\n",
    "               geo.name AS country_name,\n",
    "               gdp_pcap.time AS year,\n",
    "               gdp_pcap.gdp_pcap AS gdp_per_capita,\n",
    "               geo.world_4region AS continent,\n",
    "               lex.lex AS life_expectancy,\n",
    "               pop.pop AS population\n",
    "          FROM gdp_pcap\n",
    "          JOIN geo\n",
    "            ON gdp_pcap.country = geo.country\n",
    "          JOIN lex\n",
    "            ON gdp_pcap.country = lex.country AND\n",
    "               gdp_pcap.time = lex.time\n",
    "          JOIN pop\n",
    "            ON gdp_pcap.country = pop.country AND\n",
    "               gdp_pcap.time = pop.time\n",
    "         WHERE gdp_pcap.time < 2024;\n",
    "        \"\"\"\n",
    "        cur = connection.cursor()\n",
    "        cur.execute(drop_view_sql)\n",
    "        cur.execute(create_view_sql)\n",
    "        connection.close()\n",
    "```"
   ]
  },
  {
   "cell_type": "markdown",
   "id": "decimal-newsletter",
   "metadata": {
    "slideshow": {
     "slide_type": "subslide"
    }
   },
   "source": [
    "## 檢查類別 `CreateGapminderDB` 能否順利運行\n",
    "\n",
    "```python\n",
    "create_gapminder_db = CreateGapminderDB()\n",
    "create_gapminder_db.create_database()\n",
    "```"
   ]
  },
  {
   "cell_type": "markdown",
   "id": "5f2370f7",
   "metadata": {
    "slideshow": {
     "slide_type": "subslide"
    }
   },
   "source": [
    "## 完成後用 SQLiteStudio 檢視一下"
   ]
  },
  {
   "cell_type": "markdown",
   "id": "supposed-spread",
   "metadata": {
    "slideshow": {
     "slide_type": "slide"
    }
   },
   "source": [
    "## 概念驗證"
   ]
  },
  {
   "cell_type": "markdown",
   "id": "impaired-section",
   "metadata": {
    "slideshow": {
     "slide_type": "subslide"
    }
   },
   "source": [
    "## 從 `plotting` 檢視表選取所有的資料"
   ]
  },
  {
   "cell_type": "code",
   "execution_count": 8,
   "id": "eeb5a65c",
   "metadata": {},
   "outputs": [],
   "source": [
    "connection = sqlite3.connect(\"data/gapminder.db\")\n",
    "plotting_df = pd.read_sql(\"\"\"SELECT * FROM plotting;\"\"\", con=connection)\n",
    "connection.close()"
   ]
  },
  {
   "cell_type": "markdown",
   "id": "f62218f0",
   "metadata": {
    "slideshow": {
     "slide_type": "subslide"
    }
   },
   "source": [
    "## 透過 `matplotlib` 模組繪製靜態圖"
   ]
  },
  {
   "cell_type": "code",
   "execution_count": 9,
   "id": "cc5d02f0",
   "metadata": {},
   "outputs": [],
   "source": [
    "year_to_plot = 1800\n",
    "subset_df = plotting_df[plotting_df[\"year\"] == year_to_plot]\n",
    "lex = subset_df[\"life_expectancy\"].values\n",
    "gdp_pcap = subset_df[\"gdp_per_capita\"].values\n",
    "cont = subset_df[\"continent\"].values\n",
    "color_map = {\n",
    "    \"asia\": \"r\",\n",
    "    \"africa\": \"g\",\n",
    "    \"europe\": \"b\",\n",
    "    \"americas\": \"c\"\n",
    "}"
   ]
  },
  {
   "cell_type": "code",
   "execution_count": 10,
   "id": "fa6c398d",
   "metadata": {
    "slideshow": {
     "slide_type": "subslide"
    }
   },
   "outputs": [
    {
     "data": {
      "image/png": "[encoded data removed]",
      "text/plain": [
       "<Figure size 640x480 with 1 Axes>"
      ]
     },
     "metadata": {},
     "output_type": "display_data"
    }
   ],
   "source": [
    "import matplotlib.pyplot as plt\n",
    "\n",
    "fig, ax = plt.subplots()\n",
    "for xi, yi, yri, ci in zip(gdp_pcap, lex, year, cont):\n",
    "    ax.scatter(xi, yi, color=color_map[ci])\n",
    "ax.set_title(f\"The world in {year_to_plot}\")\n",
    "ax.set_xlabel(\"GDP Per Capita(USD)\")\n",
    "ax.set_ylabel(\"Life Expectancy(Years Old)\")\n",
    "ax.set_ylim(20, 100)\n",
    "ax.set_xlim(0, 100000)\n",
    "plt.show()"
   ]
  },
  {
   "cell_type": "code",
   "execution_count": 11,
   "id": "267b0946",
   "metadata": {
    "slideshow": {
     "slide_type": "subslide"
    }
   },
   "outputs": [],
   "source": [
    "year_to_plot = 2023\n",
    "subset_df = plotting_df[plotting_df[\"year\"] == year_to_plot]\n",
    "lex = subset_df[\"life_expectancy\"].values\n",
    "gdp_pcap = subset_df[\"gdp_per_capita\"].values\n",
    "cont = subset_df[\"continent\"].values\n",
    "color_map = {\n",
    "    \"asia\": \"r\",\n",
    "    \"africa\": \"g\",\n",
    "    \"europe\": \"b\",\n",
    "    \"americas\": \"c\"\n",
    "}"
   ]
  },
  {
   "cell_type": "code",
   "execution_count": 12,
   "id": "a78e54b9",
   "metadata": {
    "slideshow": {
     "slide_type": "subslide"
    }
   },
   "outputs": [
    {
     "data": {
      "image/png": "[encoded data removed]",
      "text/plain": [
       "<Figure size 640x480 with 1 Axes>"
      ]
     },
     "metadata": {},
     "output_type": "display_data"
    }
   ],
   "source": [
    "fig, ax = plt.subplots()\n",
    "for xi, yi, yri, ci in zip(gdp_pcap, lex, year, cont):\n",
    "    ax.scatter(xi, yi, color=color_map[ci])\n",
    "ax.set_title(f\"The world in {year_to_plot}\")\n",
    "ax.set_xlabel(\"GDP Per Capita(USD)\")\n",
    "ax.set_ylabel(\"Life Expectancy(Years Old)\")\n",
    "ax.set_ylim(20, 100)\n",
    "ax.set_xlim(0, 100000)\n",
    "plt.show()"
   ]
  },
  {
   "cell_type": "markdown",
   "id": "e4a28954",
   "metadata": {
    "slideshow": {
     "slide_type": "subslide"
    }
   },
   "source": [
    "## 透過 `matplotlib` 模組繪製動畫"
   ]
  },
  {
   "cell_type": "code",
   "execution_count": null,
   "id": "4ae3ca37",
   "metadata": {},
   "outputs": [],
   "source": [
    "import matplotlib.animation as animation\n",
    "\n",
    "fig, ax = plt.subplots()\n",
    "def update_plot(year_to_plot: int):\n",
    "    ax.clear()\n",
    "    subset_df = plotting_df[plotting_df[\"year\"] == year_to_plot]\n",
    "    lex = subset_df[\"life_expectancy\"].values\n",
    "    gdp_pcap = subset_df[\"gdp_per_capita\"].values\n",
    "    cont = subset_df[\"continent\"].values\n",
    "    color_map = {\n",
    "        \"asia\": \"r\",\n",
    "        \"africa\": \"g\",\n",
    "        \"europe\": \"b\",\n",
    "        \"americas\": \"c\"\n",
    "    }\n",
    "    for xi, yi, yri, ci in zip(gdp_pcap, lex, year, cont):\n",
    "        ax.scatter(xi, yi, color=color_map[ci])\n",
    "    ax.set_title(f\"The world in {year_to_plot}\")\n",
    "    ax.set_xlabel(\"GDP Per Capita(USD)\")\n",
    "    ax.set_ylabel(\"Life Expectancy(Years Old)\")\n",
    "    ax.set_ylim(20, 100)\n",
    "    ax.set_xlim(0, 100000)"
   ]
  },
  {
   "cell_type": "code",
   "execution_count": 7,
   "id": "89efab06",
   "metadata": {
    "slideshow": {
     "slide_type": "subslide"
    }
   },
   "outputs": [
    {
     "data": {
      "image/png": "[encoded data removed]",
      "text/plain": [
       "<Figure size 640x480 with 1 Axes>"
      ]
     },
     "metadata": {},
     "output_type": "display_data"
    }
   ],
   "source": [
    "ani = animation.FuncAnimation(fig, update_plot, frames=range(2000, 2024), interval=10)\n",
    "ani.save('animation.gif', fps=10)\n",
    "plt.show()"
   ]
  },
  {
   "cell_type": "markdown",
   "id": "sunset-testing",
   "metadata": {
    "slideshow": {
     "slide_type": "slide"
    }
   },
   "source": [
    "## 成品"
   ]
  },
  {
   "cell_type": "markdown",
   "id": "2e12686f",
   "metadata": {
    "slideshow": {
     "slide_type": "subslide"
    }
   },
   "source": [
    "## 從 `plotting` 檢視表選取所有的資料"
   ]
  },
  {
   "cell_type": "code",
   "execution_count": 13,
   "id": "be732d9a",
   "metadata": {},
   "outputs": [],
   "source": [
    "connection = sqlite3.connect(\"data/gapminder.db\")\n",
    "sql_query = \"\"\"\n",
    "SELECT *\n",
    "  FROM plotting\n",
    " WHERE year < 2024;\n",
    "\"\"\"\n",
    "plotting_df = pd.read_sql(sql_query, con=connection)\n",
    "connection.close()"
   ]
  },
  {
   "cell_type": "markdown",
   "id": "036ab298",
   "metadata": {
    "slideshow": {
     "slide_type": "subslide"
    }
   },
   "source": [
    "## 透過 `plotly.express` 模組繪製動畫"
   ]
  },
  {
   "cell_type": "code",
   "execution_count": 20,
   "id": "ae42a337",
   "metadata": {},
   "outputs": [],
   "source": [
    "import plotly.express as px\n",
    "\n",
    "fig = px.scatter(plotting_df, x=\"gdp_per_capita\", y=\"life_expectancy\",\n",
    "                 animation_frame=\"year\", animation_group=\"country_name\",\n",
    "                 size=\"population\", color=\"continent\", hover_name=\"country_name\", \n",
    "                 size_max=100, range_x=[100, 100000], range_y=[20, 100], log_x=True,\n",
    "                 title=\"Gapminder Clone 1800-2023\")\n",
    "fig.write_html(\"gapminder_clone.html\", auto_open=True)"
   ]
  },
  {
   "cell_type": "markdown",
   "id": "2cbe90ff",
   "metadata": {
    "slideshow": {
     "slide_type": "slide"
    }
   },
   "source": [
    "## 延伸優化"
   ]
  },
  {
   "cell_type": "code",
   "execution_count": null,
   "id": "19097027",
   "metadata": {},
   "outputs": [],
   "source": []
  }
 ],
 "metadata": {
  "celltoolbar": "Slideshow",
  "kernelspec": {
   "display_name": "Data Science",
   "language": "python",
   "name": "datascience"
  },
  "language_info": {
   "codemirror_mode": {
    "name": "ipython",
    "version": 3
   },
   "file_extension": ".py",
   "mimetype": "text/x-python",
   "name": "python",
   "nbconvert_exporter": "python",
   "pygments_lexer": "ipython3",
   "version": "3.11.9"
  }
 },
 "nbformat": 4,
 "nbformat_minor": 5
}
